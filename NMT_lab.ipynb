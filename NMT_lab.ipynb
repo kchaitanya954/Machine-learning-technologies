{
  "nbformat": 4,
  "nbformat_minor": 0,
  "metadata": {
    "colab": {
      "name": "NMT_lab.ipynb",
      "provenance": [],
      "collapsed_sections": [],
      "include_colab_link": true
    },
    "kernelspec": {
      "name": "python3",
      "display_name": "Python 3"
    },
    "language_info": {
      "name": "python"
    }
  },
  "cells": [
    {
      "cell_type": "markdown",
      "metadata": {
        "id": "view-in-github",
        "colab_type": "text"
      },
      "source": [
        "<a href=\"https://colab.research.google.com/github/kchaitanya954/Machine-learning-technologies/blob/main/NMT_lab.ipynb\" target=\"_parent\"><img src=\"https://colab.research.google.com/assets/colab-badge.svg\" alt=\"Open In Colab\"/></a>"
      ]
    },
    {
      "cell_type": "markdown",
      "metadata": {
        "id": "H9lDgadR7or3"
      },
      "source": [
        "In this homework you will make EN-RU translation system and look at the resulting quality :)\n"
      ]
    },
    {
      "cell_type": "code",
      "metadata": {
        "id": "6j2i_ue6QAf2"
      },
      "source": [
        "! pip install subword_nmt\n",
        "! pip install gdown"
      ],
      "execution_count": null,
      "outputs": []
    },
    {
      "cell_type": "code",
      "metadata": {
        "id": "Z171Ipyr6tcs"
      },
      "source": [
        "import os\n",
        "\n",
        "import torch\n",
        "import torch.nn as nn\n",
        "import torch.optim as optim\n",
        "\n",
        "import torchtext\n",
        "from torchtext.legacy.datasets import TranslationDataset, Multi30k\n",
        "from torchtext.legacy.data import Field, BucketIterator, TabularDataset\n",
        "from nltk.tokenize import WordPunctTokenizer\n",
        "\n",
        "from subword_nmt.learn_bpe import learn_bpe\n",
        "from subword_nmt.apply_bpe import BPE\n",
        "\n",
        "import random\n",
        "import math\n",
        "import time"
      ],
      "execution_count": null,
      "outputs": []
    },
    {
      "cell_type": "code",
      "metadata": {
        "id": "aZWr4I5_BsPm"
      },
      "source": [
        "path_to_data = './data.txt'\n",
        "if not os.path.exists(path_to_data):\n",
        "  ! wget --no-check-certificate 'https://docs.google.com/uc?export=download&id=1SP83UfArWIkOA1Biu0NXYs5qiLFGaHIZ' -O ./data.txt"
      ],
      "execution_count": null,
      "outputs": []
    },
    {
      "cell_type": "markdown",
      "metadata": {
        "id": "qOCHUeTRMYoy"
      },
      "source": [
        "First step - data preprocessing"
      ]
    },
    {
      "cell_type": "code",
      "metadata": {
        "id": "TAo-nRNWMYLt"
      },
      "source": [
        "from tokenizers import Tokenizer\n",
        "from tokenizers.models import BPE\n",
        "# Use BPE encoding (https://github.com/rsennrich/subword-nmt)\n",
        "tokenizer = Tokenizer(BPE())\n",
        "def tokenize(x, tokenizer=tokenizer):\n",
        "    # <Your code here>\n",
        "    tokenizer = tokenizer()\n",
        "    tokenizer.fit_on_texts(x)\n",
        "    return tokenizer\n"
      ],
      "execution_count": null,
      "outputs": []
    },
    {
      "cell_type": "code",
      "metadata": {
        "id": "l0_ythAGPPxa"
      },
      "source": [
        "SRC = Field(tokenize=tokenize,\n",
        "            init_token = '<sos>', \n",
        "            eos_token = '<eos>', \n",
        "            lower = True)\n",
        "\n",
        "TRG = Field(tokenize=tokenize,\n",
        "            init_token = '<sos>', \n",
        "            eos_token = '<eos>', \n",
        "            lower = True)\n",
        "\n",
        "dataset = TabularDataset(\n",
        "    path=path_do_data,\n",
        "    format='tsv',\n",
        "    fields=[('trg', TRG), ('src', SRC)]\n",
        ")"
      ],
      "execution_count": null,
      "outputs": []
    },
    {
      "cell_type": "code",
      "metadata": {
        "id": "QvJZ690bPYej"
      },
      "source": [
        "train_data, valid_data, test_data = dataset.split(split_ratio=[0.8, 0.15, 0.05])"
      ],
      "execution_count": null,
      "outputs": []
    },
    {
      "cell_type": "code",
      "metadata": {
        "id": "f7GYEWqSPdyV"
      },
      "source": [
        "print(f\"Number of training examples: {len(train_data.examples)}\")\n",
        "print(f\"Number of validation examples: {len(valid_data.examples)}\")\n",
        "print(f\"Number of testing examples: {len(test_data.examples)}\")"
      ],
      "execution_count": null,
      "outputs": []
    },
    {
      "cell_type": "code",
      "metadata": {
        "id": "CHwcfa4wTY7H"
      },
      "source": [
        "SRC.build_vocab(train_data, min_freq = 3)\n",
        "TRG.build_vocab(train_data, min_freq = 3)"
      ],
      "execution_count": null,
      "outputs": []
    },
    {
      "cell_type": "code",
      "metadata": {
        "id": "_YxntA7wTaD3"
      },
      "source": [
        "print(f\"Unique tokens in source (ru) vocabulary: {len(SRC.vocab)}\")\n",
        "print(f\"Unique tokens in target (en) vocabulary: {len(TRG.vocab)}\")"
      ],
      "execution_count": null,
      "outputs": []
    },
    {
      "cell_type": "code",
      "metadata": {
        "id": "gQdSQqxJTe9H"
      },
      "source": [
        "print(vars(train_data.examples[90]))"
      ],
      "execution_count": null,
      "outputs": []
    },
    {
      "cell_type": "markdown",
      "metadata": {
        "id": "BdN6-ov0C1oe"
      },
      "source": [
        "We will start from implementing basic LSTM"
      ]
    },
    {
      "cell_type": "markdown",
      "metadata": {
        "id": "jFz8L8ZnY3zU"
      },
      "source": [
        ""
      ]
    },
    {
      "cell_type": "markdown",
      "metadata": {
        "id": "lii275aOEdNd"
      },
      "source": [
        "So, LSTM stands for Long-Short term memory and heplps to reduce the problems with long sequences and vanishing gradients.\n",
        "\n",
        "LSTM cell looks like this:\n",
        "\n",
        "![image.png](data:image/png;base64,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)"
      ]
    },
    {
      "cell_type": "markdown",
      "metadata": {
        "id": "0IYRf6qrFT2h"
      },
      "source": [
        "In other words we have:\n",
        "\n",
        "\n",
        "*   Forget gate that helps to avoid storing not so importaint information\n",
        "*   Input gate, where we decide what information should be stored in Long-Term memory\n",
        "*   Output gate \n",
        "\n",
        "\n",
        "\n",
        "\n",
        "\n"
      ]
    },
    {
      "cell_type": "code",
      "metadata": {
        "id": "RqDmCdP9Twx_"
      },
      "source": [
        "class Encoder(nn.Module):\n",
        "    def __init__(self, input_dim, emb_dim, hid_dim, n_layers, dropout):\n",
        "        super().__init__()\n",
        "        \n",
        "        self.input_dim = input_dim\n",
        "        self.emb_dim = emb_dim\n",
        "        self.hid_dim = hid_dim\n",
        "        self.n_layers = n_layers\n",
        "        self.dropout = dropout\n",
        "        \n",
        "        # There is a good option of embeddings creation which is nn.Embedding\n",
        "        self.embedding = # <YOUR CODE HERE>\n",
        "        \n",
        "        # You can take nn.LSTM\n",
        "        self.rnn = # <YOUR CODE HERE>\n",
        "        \n",
        "        self.dropout = nn.Dropout(p=dropout)\n",
        "        \n",
        "    def forward(self, src):\n",
        "        \n",
        "        # Computes an embedding from the src data and apply dropout to it\n",
        "        embedded = self.embedding(src)\n",
        "        embedded = self.dropout(embedded)\n",
        "      \n",
        "        # embedded = [src sent len, batch size, emb dim]\n",
        "        \n",
        "        # Compute the RNN output values of the encoder RNN. \n",
        "        # outputs, hidden and cell should be initialized here. Refer to nn.LSTM docs ;)\n",
        "        \n",
        "        # <YOUR CODE HERE> \n",
        "        \n",
        "        #outputs = [src sent len, batch size, hid dim * n directions]\n",
        "        #hidden = [n layers * n directions, batch size, hid dim]\n",
        "        #cell = [n layers * n directions, batch size, hid dim]\n",
        "        \n",
        "        #outputs are always from the top hidden layer\n",
        "        \n",
        "        return hidden, cell\n",
        "    \n",
        "\n",
        "class Decoder(nn.Module):\n",
        "    def __init__(self, output_dim, emb_dim, hid_dim, n_layers, dropout):\n",
        "        super().__init__()\n",
        "\n",
        "        self.emb_dim = emb_dim\n",
        "        self.hid_dim = hid_dim\n",
        "        self.output_dim = output_dim\n",
        "        self.n_layers = n_layers\n",
        "        self.dropout = dropout\n",
        "        \n",
        "        self.embedding = # <YOUR CODE HERE>\n",
        "        \n",
        "        self.rnn = # <YOUR CODE HERE>\n",
        "        \n",
        "        self.out = nn.Linear(\n",
        "            in_features=hid_dim,\n",
        "            out_features=output_dim\n",
        "        )\n",
        "        \n",
        "        self.dropout = nn.Dropout(p=dropout)\n",
        "        \n",
        "    def forward(self, input, hidden, cell):\n",
        "        \n",
        "        #input = [batch size]\n",
        "        #hidden = [n layers * n directions, batch size, hid dim]\n",
        "        #cell = [n layers * n directions, batch size, hid dim]\n",
        "        \n",
        "        #n directions in the decoder will both always be 1, therefore:\n",
        "        #hidden = [n layers, batch size, hid dim]\n",
        "        #context = [n layers, batch size, hid dim]\n",
        "        \n",
        "        input = input.unsqueeze(0)\n",
        "        \n",
        "        #input = [1, batch size]\n",
        "        \n",
        "        # Compute an embedding from the input data and apply dropout to it\n",
        "        embedded = self.dropout(self.embedding(input))\n",
        "        \n",
        "        #embedded = [1, batch size, emb dim]\n",
        "        \n",
        "        # Compute the RNN output values of the encoder RNN. \n",
        "        # outputs, hidden and cell should be initialized here. Refer to nn.LSTM docs ;)\n",
        "        \n",
        "        # <YOUR CODE HERE>\n",
        "        \n",
        "        #output = [sent len, batch size, hid dim * n directions]\n",
        "        #hidden = [n layers * n directions, batch size, hid dim]\n",
        "        #cell = [n layers * n directions, batch size, hid dim]\n",
        "        \n",
        "        #sent len and n directions will always be 1 in the decoder, therefore:\n",
        "        #output = [1, batch size, hid dim]\n",
        "        #hidden = [n layers, batch size, hid dim]\n",
        "        #cell = [n layers, batch size, hid dim]\n",
        "        \n",
        "        #prediction = [batch size, output dim]\n",
        "        \n",
        "        return prediction, hidden, cell\n",
        "\n",
        "\n",
        "class Seq2Seq(nn.Module):\n",
        "    def __init__(self, encoder, decoder, device):\n",
        "        super().__init__()\n",
        "        \n",
        "        self.encoder = encoder\n",
        "        self.decoder = decoder\n",
        "        self.device = device\n",
        "        \n",
        "        assert encoder.hid_dim == decoder.hid_dim, \\\n",
        "            \"Hidden dimensions of encoder and decoder must be equal!\"\n",
        "        assert encoder.n_layers == decoder.n_layers, \\\n",
        "            \"Encoder and decoder must have equal number of layers!\"\n",
        "        \n",
        "    def forward(self, src, trg, teacher_forcing_ratio = 0.5):\n",
        "        \n",
        "        #src = [src sent len, batch size]\n",
        "        #trg = [trg sent len, batch size]\n",
        "        \n",
        "        # Teacher forcing technique helps to make model generate longer sequences: when we just begin training\n",
        "        # we give our model only ground truth tokens and when the model is more trained we start\n",
        "        # to give the generated predictions as an input to model the inference situation\n",
        "\n",
        "        # teacher_forcing_ratio is probability to use teacher forcing\n",
        "        # e.g. if teacher_forcing_ratio is 0.75 we use ground-truth inputs 75% of the time\n",
        "        \n",
        "        # Again, now batch is the first dimention instead of zero\n",
        "        batch_size = trg.shape[1]\n",
        "        max_len = trg.shape[0]\n",
        "        trg_vocab_size = self.decoder.output_dim\n",
        "        \n",
        "        #tensor to store decoder outputs\n",
        "        outputs = torch.zeros(max_len, batch_size, trg_vocab_size).to(self.device)\n",
        "        \n",
        "        #last hidden state of the encoder is used as the initial hidden state of the decoder\n",
        "        hidden, cell = self.encoder(src)\n",
        "        \n",
        "        #first input to the decoder is the <sos> tokens\n",
        "        input = trg[0,:]\n",
        "        \n",
        "        for t in range(1, max_len):\n",
        "            \n",
        "            output, hidden, cell = self.decoder(input, hidden, cell)\n",
        "            outputs[t] = output\n",
        "            teacher_force = random.random() < teacher_forcing_ratio\n",
        "            top1 = output.max(1)[1]\n",
        "            input = (trg[t] if teacher_force else top1)\n",
        "        \n",
        "        return outputs"
      ],
      "execution_count": null,
      "outputs": []
    },
    {
      "cell_type": "markdown",
      "metadata": {
        "id": "46kDjUV9V0T6"
      },
      "source": [
        "Batches preparation and model training"
      ]
    },
    {
      "cell_type": "code",
      "metadata": {
        "id": "ieMDiwqyK0oZ"
      },
      "source": [
        "device = torch.device('cuda' if torch.cuda.is_available() else 'cpu')"
      ],
      "execution_count": null,
      "outputs": []
    },
    {
      "cell_type": "code",
      "metadata": {
        "id": "8Vkhhq8DV7w1"
      },
      "source": [
        "def _len_sort_key(x):\n",
        "    return len(x.src)\n",
        "\n",
        "BATCH_SIZE = 128\n",
        "\n",
        "train_iterator, valid_iterator, test_iterator = BucketIterator.splits(\n",
        "    (train_data, valid_data, test_data), \n",
        "    batch_size = BATCH_SIZE, \n",
        "    device = device,\n",
        "    sort_key=_len_sort_key\n",
        ")"
      ],
      "execution_count": null,
      "outputs": []
    },
    {
      "cell_type": "code",
      "metadata": {
        "id": "rawOGrXtWLD-"
      },
      "source": [
        "INPUT_DIM = len(SRC.vocab)\n",
        "OUTPUT_DIM = len(TRG.vocab)\n",
        "ENC_EMB_DIM = 256\n",
        "DEC_EMB_DIM = 256\n",
        "HID_DIM = 512\n",
        "N_LAYERS = 2\n",
        "ENC_DROPOUT = 0.5\n",
        "DEC_DROPOUT = 0.5\n",
        "\n",
        "enc = Encoder(INPUT_DIM, ENC_EMB_DIM, HID_DIM, N_LAYERS, ENC_DROPOUT)\n",
        "dec = Decoder(OUTPUT_DIM, DEC_EMB_DIM, HID_DIM, N_LAYERS, DEC_DROPOUT)\n",
        "\n",
        "# dont forget to put the model to the right device\n",
        "model = Seq2Seq(enc, dec, device).to(device)"
      ],
      "execution_count": null,
      "outputs": []
    },
    {
      "cell_type": "code",
      "metadata": {
        "id": "_J-uv2toWYy8"
      },
      "source": [
        "def init_weights(m):\n",
        "    # Now we should implement weights initialization - uniform from nn module will be ok\n",
        "    # <YOUR CODE HERE>\n",
        "        \n",
        "model.apply(init_weights)"
      ],
      "execution_count": null,
      "outputs": []
    },
    {
      "cell_type": "code",
      "metadata": {
        "id": "I4puwRvoWq6n"
      },
      "source": [
        "def count_parameters(model):\n",
        "    return sum(p.numel() for p in model.parameters() if p.requires_grad)\n",
        "\n",
        "print(f'The model has {count_parameters(model):,} trainable parameters')"
      ],
      "execution_count": null,
      "outputs": []
    },
    {
      "cell_type": "code",
      "metadata": {
        "id": "xBVGNtIYWtkA"
      },
      "source": [
        "PAD_IDX = TRG.vocab.stoi['<pad>']\n",
        "optimizer = optim.Adam(model.parameters())\n",
        "criterion = nn.CrossEntropyLoss(ignore_index = PAD_IDX)"
      ],
      "execution_count": null,
      "outputs": []
    },
    {
      "cell_type": "code",
      "metadata": {
        "id": "3rmvk11mW8tX"
      },
      "source": [
        "def train(model, iterator, optimizer, criterion, clip, train_history=None, valid_history=None):\n",
        "    model.train()\n",
        "    \n",
        "    epoch_loss = 0\n",
        "    history = []\n",
        "    for i, batch in enumerate(iterator):\n",
        "        \n",
        "        src = batch.src\n",
        "        trg = batch.trg\n",
        "        \n",
        "        optimizer.zero_grad()\n",
        "        \n",
        "        output = model(src, trg)\n",
        "        \n",
        "        output = output[1:].view(-1, output.shape[-1])\n",
        "        trg = trg[1:].view(-1)\n",
        "        \n",
        "        loss = criterion(output, trg)\n",
        "        \n",
        "        loss.backward()\n",
        "        \n",
        "        # Let's clip the gradient\n",
        "        torch.nn.utils.clip_grad_norm_(model.parameters(), clip)\n",
        "        \n",
        "        optimizer.step()\n",
        "        \n",
        "        epoch_loss += loss.item()\n",
        "        \n",
        "        history.append(loss.cpu().data.numpy())\n",
        "        if (i+1)%10==0:\n",
        "            fig, ax = plt.subplots(nrows=1, ncols=2, figsize=(12, 8))\n",
        "\n",
        "            clear_output(True)\n",
        "            ax[0].plot(history, label='train loss')\n",
        "            ax[0].set_xlabel('Batch')\n",
        "            ax[0].set_title('Train loss')\n",
        "            if train_history is not None:\n",
        "                ax[1].plot(train_history, label='general train history')\n",
        "                ax[1].set_xlabel('Epoch')\n",
        "            if valid_history is not None:\n",
        "                ax[1].plot(valid_history, label='general valid history')\n",
        "            plt.legend()\n",
        "            \n",
        "            plt.show()\n",
        "\n",
        "        \n",
        "    return epoch_loss / len(iterator)"
      ],
      "execution_count": null,
      "outputs": []
    },
    {
      "cell_type": "code",
      "metadata": {
        "id": "p33vtAc0W8wZ"
      },
      "source": [
        "def evaluate(model, iterator, criterion):\n",
        "    \n",
        "    model.eval()\n",
        "    \n",
        "    epoch_loss = 0\n",
        "    \n",
        "    history = []\n",
        "    \n",
        "    with torch.no_grad():\n",
        "    \n",
        "        for i, batch in enumerate(iterator):\n",
        "\n",
        "            src = batch.src\n",
        "            trg = batch.trg\n",
        "\n",
        "            output = model(src, trg, 0) #turn off teacher forcing\n",
        "\n",
        "            #trg = [trg sent len, batch size]\n",
        "            #output = [trg sent len, batch size, output dim]\n",
        "\n",
        "            output = output[1:].view(-1, output.shape[-1])\n",
        "            trg = trg[1:].view(-1)\n",
        "\n",
        "            #trg = [(trg sent len - 1) * batch size]\n",
        "            #output = [(trg sent len - 1) * batch size, output dim]\n",
        "\n",
        "            loss = criterion(output, trg)\n",
        "            \n",
        "            epoch_loss += loss.item()\n",
        "        \n",
        "    return epoch_loss / len(iterator)"
      ],
      "execution_count": null,
      "outputs": []
    },
    {
      "cell_type": "code",
      "metadata": {
        "id": "zRm0Oi9wW8zP"
      },
      "source": [
        "def epoch_time(start_time, end_time):\n",
        "    elapsed_time = end_time - start_time\n",
        "    elapsed_mins = int(elapsed_time / 60)\n",
        "    elapsed_secs = int(elapsed_time - (elapsed_mins * 60))\n",
        "    return elapsed_mins, elapsed_secs"
      ],
      "execution_count": null,
      "outputs": []
    },
    {
      "cell_type": "code",
      "metadata": {
        "id": "nhlqIItzW811"
      },
      "source": [
        "train_history = []\n",
        "valid_history = []\n",
        "\n",
        "N_EPOCHS = 10\n",
        "CLIP = 1\n",
        "\n",
        "best_valid_loss = float('inf')"
      ],
      "execution_count": null,
      "outputs": []
    },
    {
      "cell_type": "code",
      "metadata": {
        "id": "E00eVy6RXJ_q"
      },
      "source": [
        "for epoch in range(N_EPOCHS):\n",
        "    \n",
        "    start_time = time.time()\n",
        "    \n",
        "    train_loss = train(model, train_iterator, optimizer, criterion, CLIP, train_history, valid_history)\n",
        "    valid_loss = evaluate(model, valid_iterator, criterion)\n",
        "    \n",
        "    end_time = time.time()\n",
        "    \n",
        "    epoch_mins, epoch_secs = epoch_time(start_time, end_time)\n",
        "    \n",
        "    if valid_loss < best_valid_loss:\n",
        "        best_valid_loss = valid_loss\n",
        "        torch.save(model.state_dict(), 'tut1-model.pt')\n",
        "    \n",
        "    train_history.append(train_loss)\n",
        "    valid_history.append(valid_loss)\n",
        "    print(f'Epoch: {epoch+1:02} | Time: {epoch_mins}m {epoch_secs}s')\n",
        "    print(f'\\tTrain Loss: {train_loss:.3f} | Train PPL: {math.exp(train_loss):7.3f}')\n",
        "    print(f'\\t Val. Loss: {valid_loss:.3f} |  Val. PPL: {math.exp(valid_loss):7.3f}')"
      ],
      "execution_count": null,
      "outputs": []
    },
    {
      "cell_type": "code",
      "metadata": {
        "id": "3_N-3VzmXMOq"
      },
      "source": [
        "# Implement BLUE score calculation and get the corpora result"
      ],
      "execution_count": null,
      "outputs": []
    },
    {
      "cell_type": "markdown",
      "metadata": {
        "id": "nWNdwqDdESjG"
      },
      "source": [
        "**(Optional part for additional points) Try different approaches for neural translation (for instance, add attention, use fine-tuning:)) and get >= 27 BLEU score.**"
      ]
    },
    {
      "cell_type": "markdown",
      "metadata": {
        "id": "4oA-qF-QYQ7e"
      },
      "source": [
        "*Credits: Based on Harbour.Space University homework*\n"
      ]
    },
    {
      "cell_type": "code",
      "metadata": {
        "id": "jSbrWkxaYh1N"
      },
      "source": [
        ""
      ],
      "execution_count": null,
      "outputs": []
    }
  ]
}