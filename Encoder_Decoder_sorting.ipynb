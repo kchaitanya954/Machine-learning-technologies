{
  "nbformat": 4,
  "nbformat_minor": 0,
  "metadata": {
    "colab": {
      "name": "Encoder-Decoder_sorting.ipynb",
      "provenance": [],
      "authorship_tag": "ABX9TyNFb0No1Y5/fwLDRT90Ij8d",
      "include_colab_link": true
    },
    "kernelspec": {
      "name": "python3",
      "display_name": "Python 3"
    }
  },
  "cells": [
    {
      "cell_type": "markdown",
      "metadata": {
        "id": "view-in-github",
        "colab_type": "text"
      },
      "source": [
        "<a href=\"https://colab.research.google.com/github/kchaitanya954/Machine-learning-technologies/blob/main/Encoder_Decoder_sorting.ipynb\" target=\"_parent\"><img src=\"https://colab.research.google.com/assets/colab-badge.svg\" alt=\"Open In Colab\"/></a>"
      ]
    },
    {
      "cell_type": "code",
      "metadata": {
        "id": "xPXh1yw1FYow"
      },
      "source": [
        "from random import randint\r\n",
        "from numpy import array, argmax\r\n"
      ],
      "execution_count": 10,
      "outputs": []
    },
    {
      "cell_type": "code",
      "metadata": {
        "id": "AByfxml_FjOA"
      },
      "source": [
        "# generate a sequence of random integers\r\n",
        "def generate_sequence(length, n_unique):\r\n",
        "\treturn [randint(0, n_unique-1) for _ in range(length)]"
      ],
      "execution_count": 2,
      "outputs": []
    },
    {
      "cell_type": "code",
      "metadata": {
        "id": "yrSX0xMAFoSx"
      },
      "source": [
        "# one hot encode sequence\r\n",
        "def one_hot_encode(sequence, n_unique):\r\n",
        "\tencoding = list()\r\n",
        "\tfor value in sequence:\r\n",
        "\t\tvector = [0 for _ in range(n_unique)]\r\n",
        "\t\tvector[value] = 1\r\n",
        "\t\tencoding.append(vector)\r\n",
        "\treturn array(encoding)"
      ],
      "execution_count": 3,
      "outputs": []
    },
    {
      "cell_type": "code",
      "metadata": {
        "id": "e-6auLcWFq_o"
      },
      "source": [
        "# decode a one hot encoded string\r\n",
        "def one_hot_decode(encoded_seq):\r\n",
        "\treturn sorted([argmax(vector) for vector in encoded_seq])"
      ],
      "execution_count": 11,
      "outputs": []
    },
    {
      "cell_type": "code",
      "metadata": {
        "colab": {
          "base_uri": "https://localhost:8080/"
        },
        "id": "eOxairK7Ftwo",
        "outputId": "4c443f6d-48d7-44de-e249-35cae01f03fd"
      },
      "source": [
        "# generate random sequence\r\n",
        "sequence = generate_sequence(5, 50)\r\n",
        "print(sequence)"
      ],
      "execution_count": 5,
      "outputs": [
        {
          "output_type": "stream",
          "text": [
            "[28, 7, 0, 40, 8]\n"
          ],
          "name": "stdout"
        }
      ]
    },
    {
      "cell_type": "code",
      "metadata": {
        "colab": {
          "base_uri": "https://localhost:8080/"
        },
        "id": "ecaLwbLjF9oZ",
        "outputId": "efbe6a2f-f1c9-4848-a48a-439c6bff8def"
      },
      "source": [
        "# one hot encode\r\n",
        "encoded = one_hot_encode(sequence, 50)\r\n",
        "print(encoded)"
      ],
      "execution_count": 6,
      "outputs": [
        {
          "output_type": "stream",
          "text": [
            "[[0 0 0 0 0 0 0 0 0 0 0 0 0 0 0 0 0 0 0 0 0 0 0 0 0 0 0 0 1 0 0 0 0 0 0 0\n",
            "  0 0 0 0 0 0 0 0 0 0 0 0 0 0]\n",
            " [0 0 0 0 0 0 0 1 0 0 0 0 0 0 0 0 0 0 0 0 0 0 0 0 0 0 0 0 0 0 0 0 0 0 0 0\n",
            "  0 0 0 0 0 0 0 0 0 0 0 0 0 0]\n",
            " [1 0 0 0 0 0 0 0 0 0 0 0 0 0 0 0 0 0 0 0 0 0 0 0 0 0 0 0 0 0 0 0 0 0 0 0\n",
            "  0 0 0 0 0 0 0 0 0 0 0 0 0 0]\n",
            " [0 0 0 0 0 0 0 0 0 0 0 0 0 0 0 0 0 0 0 0 0 0 0 0 0 0 0 0 0 0 0 0 0 0 0 0\n",
            "  0 0 0 0 1 0 0 0 0 0 0 0 0 0]\n",
            " [0 0 0 0 0 0 0 0 1 0 0 0 0 0 0 0 0 0 0 0 0 0 0 0 0 0 0 0 0 0 0 0 0 0 0 0\n",
            "  0 0 0 0 0 0 0 0 0 0 0 0 0 0]]\n"
          ],
          "name": "stdout"
        }
      ]
    },
    {
      "cell_type": "code",
      "metadata": {
        "colab": {
          "base_uri": "https://localhost:8080/"
        },
        "id": "QcwI8GNrGBI6",
        "outputId": "b62d0659-891e-4364-cd24-6b4500dbfc38"
      },
      "source": [
        "# decode\r\n",
        "decoded = one_hot_decode(encoded)\r\n",
        "print(decoded)"
      ],
      "execution_count": 12,
      "outputs": [
        {
          "output_type": "stream",
          "text": [
            "[0, 7, 8, 28, 40]\n"
          ],
          "name": "stdout"
        }
      ]
    }
  ]
}