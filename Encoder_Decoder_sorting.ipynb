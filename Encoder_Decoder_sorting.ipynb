{
  "nbformat": 4,
  "nbformat_minor": 0,
  "metadata": {
    "colab": {
      "name": "Encoder-Decoder_sorting.ipynb",
      "provenance": [],
      "authorship_tag": "ABX9TyPTW/reIBiAovlY+E/lEJ9F",
      "include_colab_link": true
    },
    "kernelspec": {
      "name": "python3",
      "display_name": "Python 3"
    }
  },
  "cells": [
    {
      "cell_type": "markdown",
      "metadata": {
        "id": "view-in-github",
        "colab_type": "text"
      },
      "source": [
        "<a href=\"https://colab.research.google.com/github/kchaitanya954/Machine-learning-technologies/blob/main/Encoder_Decoder_sorting.ipynb\" target=\"_parent\"><img src=\"https://colab.research.google.com/assets/colab-badge.svg\" alt=\"Open In Colab\"/></a>"
      ]
    },
    {
      "cell_type": "code",
      "metadata": {
        "id": "xPXh1yw1FYow"
      },
      "source": [
        "from random import randint\r\n",
        "from numpy import array, argmax\r\n",
        "from numpy import array_equal\r\n",
        "from keras.models import Sequential\r\n",
        "from keras.layers import LSTM\r\n",
        "from keras.layers import Dense\r\n",
        "from keras.layers import TimeDistributed\r\n",
        "from keras.layers import RepeatVector"
      ],
      "execution_count": null,
      "outputs": []
    },
    {
      "cell_type": "code",
      "metadata": {
        "id": "AByfxml_FjOA"
      },
      "source": [
        "# generate a sequence of random integers\r\n",
        "def generate_sequence(length, n_unique):\r\n",
        "\treturn [randint(0, n_unique-1) for _ in range(length)]"
      ],
      "execution_count": null,
      "outputs": []
    },
    {
      "cell_type": "code",
      "metadata": {
        "id": "yrSX0xMAFoSx"
      },
      "source": [
        "# one hot encode sequence\r\n",
        "def one_hot_encode(sequence, n_unique):\r\n",
        "\tencoding = list()\r\n",
        "\tfor value in sequence:\r\n",
        "\t\tvector = [0 for _ in range(n_unique)]\r\n",
        "\t\tvector[value] = 1\r\n",
        "\t\tencoding.append(vector)\r\n",
        "\treturn array(encoding)"
      ],
      "execution_count": null,
      "outputs": []
    },
    {
      "cell_type": "code",
      "metadata": {
        "id": "e-6auLcWFq_o"
      },
      "source": [
        "# decode a one hot encoded string\r\n",
        "def one_hot_decode(encoded_seq):\r\n",
        "\treturn sorted([argmax(vector) for vector in encoded_seq])"
      ],
      "execution_count": null,
      "outputs": []
    },
    {
      "cell_type": "code",
      "metadata": {
        "colab": {
          "base_uri": "https://localhost:8080/"
        },
        "id": "eOxairK7Ftwo",
        "outputId": "4c443f6d-48d7-44de-e249-35cae01f03fd"
      },
      "source": [
        "# generate random sequence\r\n",
        "sequence = generate_sequence(5, 50)\r\n",
        "print(sequence)"
      ],
      "execution_count": null,
      "outputs": [
        {
          "output_type": "stream",
          "text": [
            "[28, 7, 0, 40, 8]\n"
          ],
          "name": "stdout"
        }
      ]
    },
    {
      "cell_type": "code",
      "metadata": {
        "colab": {
          "base_uri": "https://localhost:8080/"
        },
        "id": "ecaLwbLjF9oZ",
        "outputId": "efbe6a2f-f1c9-4848-a48a-439c6bff8def"
      },
      "source": [
        "# one hot encode\r\n",
        "encoded = one_hot_encode(sequence, 50)\r\n",
        "print(encoded)"
      ],
      "execution_count": null,
      "outputs": [
        {
          "output_type": "stream",
          "text": [
            "[[0 0 0 0 0 0 0 0 0 0 0 0 0 0 0 0 0 0 0 0 0 0 0 0 0 0 0 0 1 0 0 0 0 0 0 0\n",
            "  0 0 0 0 0 0 0 0 0 0 0 0 0 0]\n",
            " [0 0 0 0 0 0 0 1 0 0 0 0 0 0 0 0 0 0 0 0 0 0 0 0 0 0 0 0 0 0 0 0 0 0 0 0\n",
            "  0 0 0 0 0 0 0 0 0 0 0 0 0 0]\n",
            " [1 0 0 0 0 0 0 0 0 0 0 0 0 0 0 0 0 0 0 0 0 0 0 0 0 0 0 0 0 0 0 0 0 0 0 0\n",
            "  0 0 0 0 0 0 0 0 0 0 0 0 0 0]\n",
            " [0 0 0 0 0 0 0 0 0 0 0 0 0 0 0 0 0 0 0 0 0 0 0 0 0 0 0 0 0 0 0 0 0 0 0 0\n",
            "  0 0 0 0 1 0 0 0 0 0 0 0 0 0]\n",
            " [0 0 0 0 0 0 0 0 1 0 0 0 0 0 0 0 0 0 0 0 0 0 0 0 0 0 0 0 0 0 0 0 0 0 0 0\n",
            "  0 0 0 0 0 0 0 0 0 0 0 0 0 0]]\n"
          ],
          "name": "stdout"
        }
      ]
    },
    {
      "cell_type": "code",
      "metadata": {
        "colab": {
          "base_uri": "https://localhost:8080/"
        },
        "id": "QcwI8GNrGBI6",
        "outputId": "b62d0659-891e-4364-cd24-6b4500dbfc38"
      },
      "source": [
        "# decode\r\n",
        "decoded = one_hot_decode(encoded)\r\n",
        "print(decoded)"
      ],
      "execution_count": null,
      "outputs": [
        {
          "output_type": "stream",
          "text": [
            "[0, 7, 8, 28, 40]\n"
          ],
          "name": "stdout"
        }
      ]
    },
    {
      "cell_type": "code",
      "metadata": {
        "id": "b1jD4x48I0Dt"
      },
      "source": [
        "# prepare data for the LSTM\r\n",
        "def get_pair(n_in, n_out, cardinality):\r\n",
        "\t# generate random sequence\r\n",
        "  sequence_in = generate_sequence(n_in, cardinality)\r\n",
        "  encoded = one_hot_encode(sequence_in, 50)\r\n",
        "  sequence_out = one_hot_decode(encoded)\r\n",
        "\t# one hot encode\r\n",
        "  X = one_hot_encode(sequence_in, cardinality)\r\n",
        "  y = one_hot_encode(sequence_out, cardinality)\r\n",
        "  # reshape as 3D\r\n",
        "  X = X.reshape((1, X.shape[0], X.shape[1]))\r\n",
        "  y = y.reshape((1, y.shape[0], y.shape[1]))\r\n",
        "  return X,y"
      ],
      "execution_count": 23,
      "outputs": []
    },
    {
      "cell_type": "code",
      "metadata": {
        "id": "hUbZa5S7I1Td"
      },
      "source": [
        "# configure problem\r\n",
        "n_features = 50\r\n",
        "n_timesteps_in = 5\r\n",
        "n_timesteps_out = 2\r\n",
        "# define model\r\n",
        "model = Sequential()\r\n",
        "model.add(LSTM(150, input_shape=(n_timesteps_in, n_features)))\r\n",
        "model.add(RepeatVector(n_timesteps_in))\r\n",
        "model.add(LSTM(150, return_sequences=True))\r\n",
        "model.add(TimeDistributed(Dense(n_features, activation='softmax')))\r\n",
        "model.compile(loss='categorical_crossentropy', optimizer='adam', metrics=['accuracy'])\r\n"
      ],
      "execution_count": 24,
      "outputs": []
    },
    {
      "cell_type": "code",
      "metadata": {
        "id": "ijgunbuZI6Dv"
      },
      "source": [
        "# train LSTM\r\n",
        "for epoch in range(500):\r\n",
        "\t# generate new random sequence\r\n",
        "\tX,y = get_pair(n_timesteps_in, n_timesteps_out, n_features)\r\n",
        "\t# fit model for one epoch on this sequence\r\n",
        "\tmodel.fit(X, y, epochs=1, verbose=2)"
      ],
      "execution_count": null,
      "outputs": []
    },
    {
      "cell_type": "code",
      "metadata": {
        "colab": {
          "base_uri": "https://localhost:8080/"
        },
        "id": "x71fhh6HKT7h",
        "outputId": "eec68262-6812-4309-d2a3-f8a1ea32649c"
      },
      "source": [
        "# evaluate LSTM\r\n",
        "total, correct = 100, 0\r\n",
        "for _ in range(total):\r\n",
        "\tX,y = get_pair(n_timesteps_in, n_timesteps_out, n_features)\r\n",
        "\tyhat = model.predict(X, verbose=0)\r\n",
        "\tif array_equal(one_hot_decode(y[0]), one_hot_decode(yhat[0])):\r\n",
        "\t\tcorrect += 1\r\n",
        "print('Accuracy: %.2f%%' % (float(correct)/float(total)*100.0))"
      ],
      "execution_count": 26,
      "outputs": [
        {
          "output_type": "stream",
          "text": [
            "Accuracy: 0.00%\n"
          ],
          "name": "stdout"
        }
      ]
    },
    {
      "cell_type": "code",
      "metadata": {
        "id": "ghd8_UAdKblv",
        "colab": {
          "base_uri": "https://localhost:8080/"
        },
        "outputId": "a180811f-6a34-44ad-ecef-9c530c9d36c3"
      },
      "source": [
        "# spot check some examples\r\n",
        "for _ in range(10):\r\n",
        "\tX,y = get_pair(n_timesteps_in, n_timesteps_out, n_features)\r\n",
        "\tyhat = model.predict(X, verbose=0)\r\n",
        "\tprint('Expected:', one_hot_decode(y[0]), 'Predicted', one_hot_decode(yhat[0]))"
      ],
      "execution_count": 27,
      "outputs": [
        {
          "output_type": "stream",
          "text": [
            "Expected: [10, 20, 24, 26, 31] Predicted [10, 10, 10, 31, 31]\n",
            "Expected: [2, 14, 27, 30, 32] Predicted [10, 10, 27, 32, 32]\n",
            "Expected: [11, 28, 40, 44, 48] Predicted [10, 23, 40, 40, 48]\n",
            "Expected: [9, 15, 25, 37, 39] Predicted [10, 25, 25, 37, 48]\n",
            "Expected: [2, 25, 33, 45, 48] Predicted [12, 33, 33, 33, 49]\n",
            "Expected: [1, 4, 12, 13, 24] Predicted [3, 13, 13, 13, 23]\n",
            "Expected: [0, 8, 13, 19, 20] Predicted [3, 10, 10, 19, 19]\n",
            "Expected: [18, 25, 37, 42, 45] Predicted [10, 25, 25, 44, 44]\n",
            "Expected: [7, 15, 19, 38, 38] Predicted [17, 23, 38, 38, 38]\n",
            "Expected: [1, 8, 17, 22, 49] Predicted [17, 17, 17, 17, 48]\n"
          ],
          "name": "stdout"
        }
      ]
    }
  ]
}